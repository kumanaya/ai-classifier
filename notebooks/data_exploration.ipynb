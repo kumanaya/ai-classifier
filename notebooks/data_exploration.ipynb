{
 "cells": [
  {
   "cell_type": "code",
   "execution_count": null,
   "metadata": {},
   "outputs": [],
   "source": [
    "import matplotlib.pyplot as plt\n",
    "from tensorflow.keras.preprocessing.image import ImageDataGenerator\n",
    "\n",
    "# Configuração do gerador de imagens para exploração\n",
    "datagen = ImageDataGenerator(rescale=1./255)\n",
    "\n",
    "train_data_dir = \"data/train\"  # Caminho para os dados de treinamento\n",
    "\n",
    "generator = datagen.flow_from_directory(\n",
    "    train_data_dir,\n",
    "    target_size=(224, 224),\n",
    "    batch_size=32,\n",
    "    class_mode='binary')\n",
    "\n",
    "# Pegar um batch de imagens\n",
    "images, labels = next(generator)\n",
    "\n",
    "# Plotar as primeiras 5 imagens e seus rótulos\n",
    "plt.figure(figsize=(10, 10))\n",
    "for i in range(5):\n",
    "    plt.subplot(1, 5, i+1)\n",
    "    plt.imshow(images[i])\n",
    "    plt.title('Mozzarella' if labels[i] == 0 else 'Other')\n",
    "    plt.axis('off')\n",
    "plt.show()\n"
   ]
  }
 ],
 "metadata": {
  "language_info": {
   "name": "python"
  }
 },
 "nbformat": 4,
 "nbformat_minor": 2
}
